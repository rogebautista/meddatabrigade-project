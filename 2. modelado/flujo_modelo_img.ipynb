{
  "nbformat": 4,
  "nbformat_minor": 0,
  "metadata": {
    "colab": {
      "provenance": []
    },
    "kernelspec": {
      "name": "python3",
      "display_name": "Python 3"
    },
    "language_info": {
      "name": "python"
    }
  },
  "cells": [
    {
      "cell_type": "markdown",
      "source": [
        "###Flujo completo de preprocesado y procesado para adecuar la imagen obtenida al modelo entrenado con imágenes. Se segmenta la señal binaria por latidos, se procesa cada latido y se pasa al modelo."
      ],
      "metadata": {
        "id": "IhapCJcueoGk"
      }
    },
    {
      "cell_type": "code",
      "source": [
        "from google.colab import drive\n",
        "drive.mount('/content/drive')"
      ],
      "metadata": {
        "colab": {
          "base_uri": "https://localhost:8080/"
        },
        "id": "kaNr6IubHIlZ",
        "outputId": "c5858ffc-ce68-45b0-f395-f58cf5c5458a"
      },
      "execution_count": 1,
      "outputs": [
        {
          "output_type": "stream",
          "name": "stdout",
          "text": [
            "Mounted at /content/drive\n"
          ]
        }
      ]
    },
    {
      "cell_type": "code",
      "source": [
        "a_tipo_F=(\"/content/drive/MyDrive/arritmias_final/Arritmia_tipo_F.jpeg\")\n",
        "a_tipo_Q=(\"/content/drive/MyDrive/arritmias_final/Arritmia_tipo_Q.jpeg\")\n",
        "a_tipo_S=(\"/content/drive/MyDrive/arritmias_final/Arritmia_tipo_S.jpeg\")\n",
        "a_tipo_V=(\"/content/drive/MyDrive/arritmias_final/Arritmia_tipo_V.jpeg\")\n",
        "a_tipo_N =(\"/content/drive/MyDrive/arritmias_final/Normal.jpeg\")\n",
        "\n",
        "arritmia_V = \"/content/drive/MyDrive/arritmias.final/V.jpeg\"\n",
        "arritmia_S = \"/content/drive/MyDrive/arritmias.final/S.jpeg\"\n",
        "arritmia_Q = \"/content/drive/MyDrive/arritmias.final/Q.jpeg\"\n",
        "arritmia_F = \"/content/drive/MyDrive/arritmias.final/F.jpeg\""
      ],
      "metadata": {
        "id": "Y9dRZ8ZgHOK7"
      },
      "execution_count": 2,
      "outputs": []
    },
    {
      "cell_type": "code",
      "source": [
        "from google.colab.patches import cv2_imshow\n",
        "import matplotlib.pyplot as plt\n",
        "from scipy.signal import find_peaks\n",
        "from scipy import signal\n",
        "import numpy as np\n",
        "import cv2\n",
        "from PIL import Image, ImageOps\n",
        "import os\n",
        "from tensorflow import keras\n",
        "from scipy.signal import resample\n",
        "import pandas as pd\n",
        "import numpy as np\n",
        "from PIL import Image\n",
        "from keras.preprocessing import image\n",
        "from keras.applications.vgg16 import preprocess_input\n",
        "import tensorflow as tf"
      ],
      "metadata": {
        "id": "zxbJH3U1RMso"
      },
      "execution_count": 3,
      "outputs": []
    },
    {
      "cell_type": "code",
      "execution_count": 4,
      "metadata": {
        "id": "w45TN67v7cuE"
      },
      "outputs": [],
      "source": [
        "\n",
        "\n",
        "\n",
        "\n",
        "\n",
        "# Funciones del primer script\n",
        "\n",
        "#PREPROCESADO DE ECG\n",
        "\n",
        "# Importar las bibliotecas necesarias\n",
        "from PIL import Image\n",
        "import cv2\n",
        "import numpy as np\n",
        "from scipy.signal import find_peaks\n",
        "import os\n",
        "\n",
        "# Función para convertir una imagen en escala de grises en una imagen binaria invertida\n",
        "def img_to_binary(img_path):\n",
        "    # Abre la imagen usando la biblioteca Pillow\n",
        "    img = Image.open(img_path)\n",
        "    # Convierte la imagen a escala de grises\n",
        "    img_grayscale = img.convert('L')\n",
        "    # Establece un umbral para convertir la imagen en una imagen binaria invertida\n",
        "    threshold_value = 150\n",
        "    img_binary = img_grayscale.point(lambda x: 0 if x < threshold_value else 255, '1')\n",
        "    # Convierte la imagen binaria invertida en un array de numpy\n",
        "    img_binary = np.array(img_binary).astype(np.uint8)\n",
        "    # Invierte los valores de la imagen binaria\n",
        "    img_inverted = Image.fromarray(255 - img_binary)\n",
        "\n",
        "    return img_inverted\n",
        "\n",
        "# Función para recortar la sección inferior de la imagen binaria invertida\n",
        "def cut_signal(img_inverted):\n",
        "    # Convierte la imagen binaria invertida en un array de numpy\n",
        "    img_inverted = np.array(img_inverted)\n",
        "    # Normaliza la imagen para mejorar la calidad de la señal\n",
        "    img_norm = cv2.normalize(img_inverted, None, 0, 255, cv2.NORM_MINMAX)\n",
        "    # Obtiene las dimensiones de la imagen\n",
        "    height, width = img_inverted.shape[:2]\n",
        "    # Define la región de interés (ROI) como la sección inferior de la imagen\n",
        "    x = 0\n",
        "    y = int(height * 0.715)\n",
        "    w = width\n",
        "    h = int(height * 0.2)\n",
        "    seccion_inferior = img_norm[y:y+h, x:x+w]\n",
        "\n",
        "    return seccion_inferior\n",
        "\n",
        "# Función para convertir un trazo del ECG dilatado en picos del ECG y la distancia media entre ellos\n",
        "def trazo_to_peaks(dilated_trazo):\n",
        "    # Convierte el trazo del ECG dilatado en un array de numpy\n",
        "    img_arr = np.asarray(dilated_trazo)\n",
        "    # Calcula la señal promedio a lo largo del eje x del trazo del ECG\n",
        "    signal = np.mean(img_arr, axis=0)\n",
        "    # Normaliza la señal para mejorar la calidad de la señal\n",
        "    signal = (signal - np.min(signal)) / (np.max(signal) - np.min(signal))\n",
        "    # Establece un umbral para convertir la señal en una señal binaria\n",
        "    threshold = 0.5\n",
        "    binary_signal = np.where(signal > threshold, 1, 0)\n",
        "    # Encuentra los picos de la señal binaria \n",
        "    peaks, _ = find_peaks(binary_signal, height=0.5)\n",
        "    # Calcula la distancia media entre los picos\n",
        "    mean_distance = int(np.mean(np.diff(peaks)))\n",
        "    # Vuelve a encontrar los picos utilizando la distancia media como parámetro de distancia\n",
        "    peaks, _ = find_peaks(binary_signal, height=0.5, distance=mean_distance)\n",
        "\n",
        "    return peaks, mean_distance\n",
        "\n",
        "# Función para extraer los latidos individuales del trazo del ECG\n",
        "def signal_to_beats(dilated_trazo, peaks, mean_distance):\n",
        "    # Calcula los intervalos RR a partir de los picos del ECG\n",
        "    rr_intervals = np.diff(peaks)\n",
        "    # Convierte el trazo del ECG dilatado en un array de numpy\n",
        "    img_latidos = dilated_trazo\n",
        "    latidos = []\n",
        "    start = 0\n",
        "    # Itera a través de los intervalos RR para extraer los latidos individuales del trazo del ECG\n",
        "    for i in range(len(peaks) - 1):\n",
        "        end = peaks[i+1] - int(mean_distance/2)\n",
        "        latido = img_latidos[:, start:end]\n",
        "        latidos.append(latido)\n",
        "        start = end\n",
        "\n",
        "    return latidos\n",
        "\n",
        "# Función para guardar los latidos individuales como archivos de imagen\n",
        "def save_latidos(latidos):\n",
        "    # Define la ruta de la carpeta donde se guardarán los archivos de imagen de los latidos\n",
        "    ruta_carpeta = os.path.join('/content', 'latidos')\n",
        "    # Crea la carpeta si no existe\n",
        "    os.makedirs(ruta_carpeta, exist_ok=True)\n",
        "    # Itera a través de los latidos y guarda cada uno como un archivo de imagen\n",
        "    for i, latido in enumerate(latidos):\n",
        "        cv2.imwrite(f'latidos/latido_{i}.png', latido)\n",
        "\n",
        "# Función que ejecuta todo el preprocesamiento del ECG\n",
        "def executor(image_path):\n",
        "    # Convierte la imagen en escala de grises en una imagen binaria invertida\n",
        "    img_inverted = img_to_binary(image_path)\n",
        "    # Recorta la sección inferior de la imagen binaria invertida\n",
        "    seccion_inferior = cut_signal(img_inverted)\n",
        "    # Convierte el trazo del ECG dilatado en picos del ECG y la distancia media entre ellos\n",
        "    peaks, mean_distance = trazo_to_peaks(seccion_inferior)\n",
        "    # Extrae los latidos individuales del trazo del ECG\n",
        "    latidos = signal_to_beats(seccion_inferior, peaks, mean_distance) \n",
        "    # Guarda los latidos individuales como archivos de imagen\n",
        "    save_latidos(latidos)\n",
        "\n",
        "\n",
        "\n",
        "\n",
        "# Funciones del segundo script\n",
        "\n",
        "#IMG_PREDICTIONS\n",
        "\n",
        "\n",
        "# Función para realizar un preprocesamiento personalizado de la imagen de entrada\n",
        "def custom_preprocessing(img_binary):\n",
        "    # Convierte la imagen binaria en una imagen en pseudo-color (RGB)\n",
        "    img_pseudocolor = np.stack((img_binary,)*3, axis=-1)\n",
        "    # Preprocesa la imagen para que sea compatible con el modelo de clasificación\n",
        "    img_preprocessed = preprocess_input(img_pseudocolor)\n",
        "    return img_preprocessed\n",
        "\n",
        "# Función para cargar el modelo de clasificación de arritmias\n",
        "def charge_model(model_path):\n",
        "    model_img_ecg = keras.models.load_model(model_path)\n",
        "    return model_img_ecg\n",
        "\n",
        "# Función para preprocesar la imagen de entrada para la clasificación de arritmias\n",
        "def preprocess_image(image_path):\n",
        "    # Carga la imagen en escala de grises\n",
        "    img_gray = cv2.imread(image_path, cv2.IMREAD_GRAYSCALE)\n",
        "    # Convierte la imagen en escala de grises a pseudo-color (RGB)\n",
        "    img_pseudocolor = np.stack((img_gray,)*3, axis=-1)\n",
        "    # Redimensiona la imagen al tamaño de entrada del modelo\n",
        "    img_resized = cv2.resize(img_pseudocolor, (224, 224))\n",
        "    # Normaliza la imagen\n",
        "    img_normalized = img_resized / 255.0\n",
        "    # Asegura que la imagen tenga la forma adecuada (1, 224, 224, 3)\n",
        "    img_ready = np.expand_dims(img_normalized, axis=0)\n",
        "    return img_ready\n",
        "\n",
        "# Función para predecir la clase y probabilidad de arritmia en una imagen\n",
        "def predict_arrhythmia(img_array, model):\n",
        "    # Realiza una predicción utilizando el modelo de clasificación\n",
        "    prediction = model.predict(img_array)\n",
        "    # Obtiene la clase predicha y su probabilidad\n",
        "    predicted_class = np.argmax(prediction, axis=1)\n",
        "    predicted_probability = np.max(prediction, axis=1)\n",
        "    return predicted_probability[0], predicted_class[0]\n",
        "\n",
        "# Función para realizar la clasificación de arritmias en una imagen y devolver la clase y probabilidad predichas\n",
        "def predictor_img(img, model):\n",
        "    # Preprocesa la imagen\n",
        "    img_array = preprocess_image(img)\n",
        "    # Realiza la clasificación de arritmias en la imagen preprocesada\n",
        "    predicted, predicted_probability = predict_arrhythmia(img_array, model)\n",
        "    return predicted, predicted_probability\n",
        "\n",
        "# Función que ejecuta todo el proceso de preprocesamiento y clasificación de arritmias en una imagen de ECG\n",
        "\n",
        "def process_and_predict_ecg(image_path, model_path):\n",
        "    # Realiza el preprocesamiento del ECG y guarda los latidos individuales como archivos de imagen\n",
        "    executor(image_path)\n",
        "    \n",
        "   # Realiza la clasificación de arritmias en los latidos individuales utilizando el modelo de clasificación\n",
        "    model = charge_model(model_path)\n",
        "    folder_path = '/content/latidos'\n",
        "    file_names = os.listdir(folder_path)\n",
        "    \n",
        "    for i, img in enumerate(file_names):\n",
        "        predicted_probability, predictions = predictor_img(os.path.join(folder_path, img), model)\n",
        "        \n",
        "        if predictions == 2:\n",
        "            print(f\"Latido {i + 1}: No se detectó arritmia.\")\n",
        "        else:\n",
        "            print(f\"Latido {i + 1}: Se detectó arritmia de clase {predictions} con una probabilidad del {predicted_probability * 100:.2f}%.\")\n",
        "\n",
        "\n"
      ]
    },
    {
      "cell_type": "code",
      "source": [
        "\n",
        "\n",
        "image_path = arritmia_V\n",
        "model_path = '/content/drive/MyDrive/saved_models/model_ecg_escala_grises_mejorado.h5'\n",
        "process_and_predict_ecg(image_path, model_path)\n"
      ],
      "metadata": {
        "colab": {
          "base_uri": "https://localhost:8080/"
        },
        "id": "TxqgFn2K8_l3",
        "outputId": "15dcd5b3-f1da-4cb2-f239-c4e1b849af25"
      },
      "execution_count": 5,
      "outputs": [
        {
          "output_type": "stream",
          "name": "stdout",
          "text": [
            "1/1 [==============================] - 1s 1s/step\n",
            "Latido 1: No se detectó arritmia.\n",
            "1/1 [==============================] - 1s 827ms/step\n",
            "Latido 2: No se detectó arritmia.\n",
            "1/1 [==============================] - 1s 570ms/step\n",
            "Latido 3: No se detectó arritmia.\n",
            "1/1 [==============================] - 1s 561ms/step\n",
            "Latido 4: Se detectó arritmia de clase 1 con una probabilidad del 49.76%.\n",
            "1/1 [==============================] - 1s 567ms/step\n",
            "Latido 5: No se detectó arritmia.\n",
            "1/1 [==============================] - 1s 568ms/step\n",
            "Latido 6: No se detectó arritmia.\n",
            "1/1 [==============================] - 1s 551ms/step\n",
            "Latido 7: No se detectó arritmia.\n",
            "1/1 [==============================] - 1s 594ms/step\n",
            "Latido 8: No se detectó arritmia.\n",
            "1/1 [==============================] - 1s 566ms/step\n",
            "Latido 9: No se detectó arritmia.\n",
            "1/1 [==============================] - 1s 588ms/step\n",
            "Latido 10: No se detectó arritmia.\n",
            "1/1 [==============================] - 1s 693ms/step\n",
            "Latido 11: No se detectó arritmia.\n",
            "1/1 [==============================] - 1s 943ms/step\n",
            "Latido 12: No se detectó arritmia.\n",
            "1/1 [==============================] - 1s 1s/step\n",
            "Latido 13: No se detectó arritmia.\n",
            "1/1 [==============================] - 1s 987ms/step\n",
            "Latido 14: No se detectó arritmia.\n"
          ]
        }
      ]
    },
    {
      "cell_type": "markdown",
      "source": [
        "###Conclusiones:\n",
        "\n",
        "\n",
        "Tras una exhaustiva investigación entendemos que el preprocesado le esta pasando un tipo de dato al modelo que no está siendo el adecuado. Procedemos a un nuevo análisis exploratorio en el colab de pruebas y exploración. Vemos mejores resultados con la parte numérica, pues conseguimos extraer correctamente la señal y convertirla en un data frame de N latidos por 187 columnas, con los valores de la amplitud de onda en cada momento."
      ],
      "metadata": {
        "id": "XUL2jAXqT5FE"
      }
    }
  ]
}