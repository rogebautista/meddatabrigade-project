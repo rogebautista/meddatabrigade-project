{
  "nbformat": 4,
  "nbformat_minor": 0,
  "metadata": {
    "colab": {
      "provenance": [],
      "machine_shape": "hm"
    },
    "kernelspec": {
      "name": "python3",
      "display_name": "Python 3"
    },
    "language_info": {
      "name": "python"
    },
    "accelerator": "GPU",
    "gpuClass": "standard"
  },
  "cells": [
    {
      "cell_type": "code",
      "source": [
        "from google.colab import drive\n",
        "drive.mount('/content/drive')\n"
      ],
      "metadata": {
        "colab": {
          "base_uri": "https://localhost:8080/"
        },
        "id": "vqNhW-kZLzIr",
        "outputId": "56895ab4-b11c-489c-afd0-09bc1c9dbc3c"
      },
      "execution_count": 1,
      "outputs": [
        {
          "output_type": "stream",
          "name": "stdout",
          "text": [
            "Mounted at /content/drive\n"
          ]
        }
      ]
    },
    {
      "cell_type": "code",
      "execution_count": 2,
      "metadata": {
        "colab": {
          "base_uri": "https://localhost:8080/"
        },
        "id": "mvi0_V_16wIh",
        "outputId": "bf8a73ae-0e79-4ba8-d05f-5972ac61b10d"
      },
      "outputs": [
        {
          "output_type": "stream",
          "name": "stdout",
          "text": [
            "Looking in indexes: https://pypi.org/simple, https://us-python.pkg.dev/colab-wheels/public/simple/\n",
            "Requirement already satisfied: kaggle in /usr/local/lib/python3.10/dist-packages (1.5.13)\n",
            "Requirement already satisfied: certifi in /usr/local/lib/python3.10/dist-packages (from kaggle) (2022.12.7)\n",
            "Requirement already satisfied: python-slugify in /usr/local/lib/python3.10/dist-packages (from kaggle) (8.0.1)\n",
            "Requirement already satisfied: six>=1.10 in /usr/local/lib/python3.10/dist-packages (from kaggle) (1.16.0)\n",
            "Requirement already satisfied: requests in /usr/local/lib/python3.10/dist-packages (from kaggle) (2.27.1)\n",
            "Requirement already satisfied: urllib3 in /usr/local/lib/python3.10/dist-packages (from kaggle) (1.26.15)\n",
            "Requirement already satisfied: tqdm in /usr/local/lib/python3.10/dist-packages (from kaggle) (4.65.0)\n",
            "Requirement already satisfied: python-dateutil in /usr/local/lib/python3.10/dist-packages (from kaggle) (2.8.2)\n",
            "Requirement already satisfied: text-unidecode>=1.3 in /usr/local/lib/python3.10/dist-packages (from python-slugify->kaggle) (1.3)\n",
            "Requirement already satisfied: idna<4,>=2.5 in /usr/local/lib/python3.10/dist-packages (from requests->kaggle) (3.4)\n",
            "Requirement already satisfied: charset-normalizer~=2.0.0 in /usr/local/lib/python3.10/dist-packages (from requests->kaggle) (2.0.12)\n"
          ]
        }
      ],
      "source": [
        "#Instalar Kaggle para posteriormente descargar el dataset de imagenes\n",
        "!pip install kaggle\n"
      ]
    },
    {
      "cell_type": "code",
      "source": [
        "#Subir el json con la clave api de kagle\n",
        "\n",
        "from google.colab import files\n",
        "\n",
        "uploaded = files.upload()\n"
      ],
      "metadata": {
        "colab": {
          "base_uri": "https://localhost:8080/",
          "height": 73
        },
        "id": "WgnDsuah7yIm",
        "outputId": "c27a539d-e72f-4c1a-bc90-1af46e9c943e"
      },
      "execution_count": 3,
      "outputs": [
        {
          "output_type": "display_data",
          "data": {
            "text/plain": [
              "<IPython.core.display.HTML object>"
            ],
            "text/html": [
              "\n",
              "     <input type=\"file\" id=\"files-6094068b-66d2-4e43-b4a7-0c591a9e333a\" name=\"files[]\" multiple disabled\n",
              "        style=\"border:none\" />\n",
              "     <output id=\"result-6094068b-66d2-4e43-b4a7-0c591a9e333a\">\n",
              "      Upload widget is only available when the cell has been executed in the\n",
              "      current browser session. Please rerun this cell to enable.\n",
              "      </output>\n",
              "      <script>// Copyright 2017 Google LLC\n",
              "//\n",
              "// Licensed under the Apache License, Version 2.0 (the \"License\");\n",
              "// you may not use this file except in compliance with the License.\n",
              "// You may obtain a copy of the License at\n",
              "//\n",
              "//      http://www.apache.org/licenses/LICENSE-2.0\n",
              "//\n",
              "// Unless required by applicable law or agreed to in writing, software\n",
              "// distributed under the License is distributed on an \"AS IS\" BASIS,\n",
              "// WITHOUT WARRANTIES OR CONDITIONS OF ANY KIND, either express or implied.\n",
              "// See the License for the specific language governing permissions and\n",
              "// limitations under the License.\n",
              "\n",
              "/**\n",
              " * @fileoverview Helpers for google.colab Python module.\n",
              " */\n",
              "(function(scope) {\n",
              "function span(text, styleAttributes = {}) {\n",
              "  const element = document.createElement('span');\n",
              "  element.textContent = text;\n",
              "  for (const key of Object.keys(styleAttributes)) {\n",
              "    element.style[key] = styleAttributes[key];\n",
              "  }\n",
              "  return element;\n",
              "}\n",
              "\n",
              "// Max number of bytes which will be uploaded at a time.\n",
              "const MAX_PAYLOAD_SIZE = 100 * 1024;\n",
              "\n",
              "function _uploadFiles(inputId, outputId) {\n",
              "  const steps = uploadFilesStep(inputId, outputId);\n",
              "  const outputElement = document.getElementById(outputId);\n",
              "  // Cache steps on the outputElement to make it available for the next call\n",
              "  // to uploadFilesContinue from Python.\n",
              "  outputElement.steps = steps;\n",
              "\n",
              "  return _uploadFilesContinue(outputId);\n",
              "}\n",
              "\n",
              "// This is roughly an async generator (not supported in the browser yet),\n",
              "// where there are multiple asynchronous steps and the Python side is going\n",
              "// to poll for completion of each step.\n",
              "// This uses a Promise to block the python side on completion of each step,\n",
              "// then passes the result of the previous step as the input to the next step.\n",
              "function _uploadFilesContinue(outputId) {\n",
              "  const outputElement = document.getElementById(outputId);\n",
              "  const steps = outputElement.steps;\n",
              "\n",
              "  const next = steps.next(outputElement.lastPromiseValue);\n",
              "  return Promise.resolve(next.value.promise).then((value) => {\n",
              "    // Cache the last promise value to make it available to the next\n",
              "    // step of the generator.\n",
              "    outputElement.lastPromiseValue = value;\n",
              "    return next.value.response;\n",
              "  });\n",
              "}\n",
              "\n",
              "/**\n",
              " * Generator function which is called between each async step of the upload\n",
              " * process.\n",
              " * @param {string} inputId Element ID of the input file picker element.\n",
              " * @param {string} outputId Element ID of the output display.\n",
              " * @return {!Iterable<!Object>} Iterable of next steps.\n",
              " */\n",
              "function* uploadFilesStep(inputId, outputId) {\n",
              "  const inputElement = document.getElementById(inputId);\n",
              "  inputElement.disabled = false;\n",
              "\n",
              "  const outputElement = document.getElementById(outputId);\n",
              "  outputElement.innerHTML = '';\n",
              "\n",
              "  const pickedPromise = new Promise((resolve) => {\n",
              "    inputElement.addEventListener('change', (e) => {\n",
              "      resolve(e.target.files);\n",
              "    });\n",
              "  });\n",
              "\n",
              "  const cancel = document.createElement('button');\n",
              "  inputElement.parentElement.appendChild(cancel);\n",
              "  cancel.textContent = 'Cancel upload';\n",
              "  const cancelPromise = new Promise((resolve) => {\n",
              "    cancel.onclick = () => {\n",
              "      resolve(null);\n",
              "    };\n",
              "  });\n",
              "\n",
              "  // Wait for the user to pick the files.\n",
              "  const files = yield {\n",
              "    promise: Promise.race([pickedPromise, cancelPromise]),\n",
              "    response: {\n",
              "      action: 'starting',\n",
              "    }\n",
              "  };\n",
              "\n",
              "  cancel.remove();\n",
              "\n",
              "  // Disable the input element since further picks are not allowed.\n",
              "  inputElement.disabled = true;\n",
              "\n",
              "  if (!files) {\n",
              "    return {\n",
              "      response: {\n",
              "        action: 'complete',\n",
              "      }\n",
              "    };\n",
              "  }\n",
              "\n",
              "  for (const file of files) {\n",
              "    const li = document.createElement('li');\n",
              "    li.append(span(file.name, {fontWeight: 'bold'}));\n",
              "    li.append(span(\n",
              "        `(${file.type || 'n/a'}) - ${file.size} bytes, ` +\n",
              "        `last modified: ${\n",
              "            file.lastModifiedDate ? file.lastModifiedDate.toLocaleDateString() :\n",
              "                                    'n/a'} - `));\n",
              "    const percent = span('0% done');\n",
              "    li.appendChild(percent);\n",
              "\n",
              "    outputElement.appendChild(li);\n",
              "\n",
              "    const fileDataPromise = new Promise((resolve) => {\n",
              "      const reader = new FileReader();\n",
              "      reader.onload = (e) => {\n",
              "        resolve(e.target.result);\n",
              "      };\n",
              "      reader.readAsArrayBuffer(file);\n",
              "    });\n",
              "    // Wait for the data to be ready.\n",
              "    let fileData = yield {\n",
              "      promise: fileDataPromise,\n",
              "      response: {\n",
              "        action: 'continue',\n",
              "      }\n",
              "    };\n",
              "\n",
              "    // Use a chunked sending to avoid message size limits. See b/62115660.\n",
              "    let position = 0;\n",
              "    do {\n",
              "      const length = Math.min(fileData.byteLength - position, MAX_PAYLOAD_SIZE);\n",
              "      const chunk = new Uint8Array(fileData, position, length);\n",
              "      position += length;\n",
              "\n",
              "      const base64 = btoa(String.fromCharCode.apply(null, chunk));\n",
              "      yield {\n",
              "        response: {\n",
              "          action: 'append',\n",
              "          file: file.name,\n",
              "          data: base64,\n",
              "        },\n",
              "      };\n",
              "\n",
              "      let percentDone = fileData.byteLength === 0 ?\n",
              "          100 :\n",
              "          Math.round((position / fileData.byteLength) * 100);\n",
              "      percent.textContent = `${percentDone}% done`;\n",
              "\n",
              "    } while (position < fileData.byteLength);\n",
              "  }\n",
              "\n",
              "  // All done.\n",
              "  yield {\n",
              "    response: {\n",
              "      action: 'complete',\n",
              "    }\n",
              "  };\n",
              "}\n",
              "\n",
              "scope.google = scope.google || {};\n",
              "scope.google.colab = scope.google.colab || {};\n",
              "scope.google.colab._files = {\n",
              "  _uploadFiles,\n",
              "  _uploadFilesContinue,\n",
              "};\n",
              "})(self);\n",
              "</script> "
            ]
          },
          "metadata": {}
        },
        {
          "output_type": "stream",
          "name": "stdout",
          "text": [
            "Saving kaggle.json to kaggle.json\n"
          ]
        }
      ]
    },
    {
      "cell_type": "code",
      "source": [
        "!mkdir -p ~/.kaggle\n",
        "!cp kaggle.json ~/.kaggle/\n",
        "!chmod 600 ~/.kaggle/kaggle.json"
      ],
      "metadata": {
        "id": "Ce-4bE8eF60T"
      },
      "execution_count": 4,
      "outputs": []
    },
    {
      "cell_type": "code",
      "source": [
        "#Descargar datasets\n",
        "\n",
        "!kaggle datasets download -d erhmrai/ecg-image-data\n"
      ],
      "metadata": {
        "colab": {
          "base_uri": "https://localhost:8080/"
        },
        "id": "Cr_t2OqNFzfb",
        "outputId": "50c22065-6f3d-4ed4-8457-efc400cc058c"
      },
      "execution_count": 5,
      "outputs": [
        {
          "output_type": "stream",
          "name": "stdout",
          "text": [
            "Downloading ecg-image-data.zip to /content\n",
            "100% 857M/858M [00:44<00:00, 23.7MB/s]\n",
            "100% 858M/858M [00:44<00:00, 20.3MB/s]\n"
          ]
        }
      ]
    },
    {
      "cell_type": "code",
      "source": [
        "#Los descomprimimos\n",
        "\n",
        "import zipfile\n",
        "\n",
        "with zipfile.ZipFile('/content/ecg-image-data.zip', 'r') as zip_ref:\n",
        "    zip_ref.extractall('.')\n"
      ],
      "metadata": {
        "id": "FWFZL1HG_-GY"
      },
      "execution_count": 6,
      "outputs": []
    },
    {
      "cell_type": "code",
      "source": [
        "!pip install split-folders\n"
      ],
      "metadata": {
        "colab": {
          "base_uri": "https://localhost:8080/"
        },
        "id": "F-3ZA-t7JoPh",
        "outputId": "f8711c2c-87e5-4b01-8ac8-a20bfafacb98"
      },
      "execution_count": 7,
      "outputs": [
        {
          "output_type": "stream",
          "name": "stdout",
          "text": [
            "Looking in indexes: https://pypi.org/simple, https://us-python.pkg.dev/colab-wheels/public/simple/\n",
            "Collecting split-folders\n",
            "  Downloading split_folders-0.5.1-py3-none-any.whl (8.4 kB)\n",
            "Installing collected packages: split-folders\n",
            "Successfully installed split-folders-0.5.1\n"
          ]
        }
      ]
    },
    {
      "cell_type": "code",
      "source": [
        "!mkdir -p /content/ECG_Image_data/train_val"
      ],
      "metadata": {
        "id": "fdSPfYBAK5ev"
      },
      "execution_count": 8,
      "outputs": []
    },
    {
      "cell_type": "code",
      "source": [
        "#Dividir la carpeta de train en train y val\n",
        "\n",
        "import splitfolders\n",
        "\n",
        "input_folder = \"/content/ECG_Image_data/train\"\n",
        "output_folder = \"/content/ECG_Image_data/train_val\"\n",
        "split_ratio = (0.8, 0.2)  # 80% para entrenamiento y 20% para validación\n",
        "\n",
        "splitfolders.ratio(input_folder, output=output_folder, seed=42, ratio=split_ratio, group_prefix=None)\n"
      ],
      "metadata": {
        "colab": {
          "base_uri": "https://localhost:8080/"
        },
        "id": "QRWV22RKJrqq",
        "outputId": "71acbb0a-aa4d-4ae7-bd41-cd31597d7e06"
      },
      "execution_count": 9,
      "outputs": [
        {
          "output_type": "stream",
          "name": "stderr",
          "text": [
            "Copying files: 99199 files [00:12, 7941.99 files/s]\n"
          ]
        }
      ]
    },
    {
      "cell_type": "markdown",
      "source": [
        "###Como la entrada de datos del modelo de imágenes ECG llegarán tras procesarse en blanco y negro, convertimos todas las imagenes de kagle a escala de grises para entrenar mejor el modelo. Tenemos el inconveniente que el conjunto de datos de imagenet no acepta 1 solo canal así que le daremos a cada imagen un seudo color, es decir le añadiremos dos canales más para que por formato el modelo las entrene correctamente."
      ],
      "metadata": {
        "id": "aytyyKXJf5o0"
      }
    },
    {
      "cell_type": "code",
      "source": [
        "from PIL import Image\n",
        "import os\n",
        "\n",
        "#TRAIN\n",
        "input_folder = '/content/ECG_Image_data/train_val/train'\n",
        "output_folder = '/content/train_final'\n",
        "\n",
        "\n",
        "# Crear la carpeta de salida si no existe\n",
        "if not os.path.exists(output_folder):\n",
        "    os.makedirs(output_folder)\n",
        "\n",
        "# Iterar sobre las subcarpetas\n",
        "for subfolder in os.listdir(input_folder):\n",
        "    subfolder_path = os.path.join(input_folder, subfolder)\n",
        "    \n",
        "    # Comprobar si es una carpeta\n",
        "    if os.path.isdir(subfolder_path):\n",
        "        output_subfolder = os.path.join(output_folder, subfolder)\n",
        "        \n",
        "        # Crear la subcarpeta de salida si no existe\n",
        "        if not os.path.exists(output_subfolder):\n",
        "            os.makedirs(output_subfolder)\n",
        "        \n",
        "        # Iterar sobre las imágenes en la subcarpeta\n",
        "        for filename in os.listdir(subfolder_path):\n",
        "            if filename.endswith(\".jpg\") or filename.endswith(\".png\"):\n",
        "                img_color = Image.open(os.path.join(subfolder_path, filename))\n",
        "                img_gray = img_color.convert('L')\n",
        "                img_gray.save(os.path.join(output_subfolder, filename))\n",
        "\n"
      ],
      "metadata": {
        "id": "Sva2CzoI4gyp"
      },
      "execution_count": 10,
      "outputs": []
    },
    {
      "cell_type": "code",
      "source": [
        "#VALIDATION\n",
        "\n",
        "input_folder = '/content/ECG_Image_data/train_val/val'\n",
        "output_folder = '/content/validation_final'\n",
        "\n",
        "if not os.path.exists(output_folder):\n",
        "    os.makedirs(output_folder)\n",
        "\n",
        "# Iterar sobre las subcarpetas\n",
        "for subfolder in os.listdir(input_folder):\n",
        "    subfolder_path = os.path.join(input_folder, subfolder)\n",
        "    \n",
        "    # Comprobar si es una carpeta\n",
        "    if os.path.isdir(subfolder_path):\n",
        "        output_subfolder = os.path.join(output_folder, subfolder)\n",
        "        \n",
        "        # Crear la subcarpeta de salida si no existe\n",
        "        if not os.path.exists(output_subfolder):\n",
        "            os.makedirs(output_subfolder)\n",
        "        \n",
        "        # Iterar sobre las imágenes en la subcarpeta\n",
        "        for filename in os.listdir(subfolder_path):\n",
        "            if filename.endswith(\".jpg\") or filename.endswith(\".png\"):\n",
        "                img_color = Image.open(os.path.join(subfolder_path, filename))\n",
        "                img_gray = img_color.convert('L')\n",
        "                img_gray.save(os.path.join(output_subfolder, filename))\n"
      ],
      "metadata": {
        "id": "w8E7u88H4v-C"
      },
      "execution_count": 11,
      "outputs": []
    },
    {
      "cell_type": "code",
      "source": [
        "#TEST\n",
        "input_folder = '/content/ECG_Image_data/test'\n",
        "output_folder = '/content/test_final'\n",
        "\n",
        "# Crear la carpeta de salida si no existe\n",
        "if not os.path.exists(output_folder):\n",
        "    os.makedirs(output_folder)\n",
        "\n",
        "# Iterar sobre las subcarpetas\n",
        "for subfolder in os.listdir(input_folder):\n",
        "    subfolder_path = os.path.join(input_folder, subfolder)\n",
        "    \n",
        "    # Comprobar si es una carpeta\n",
        "    if os.path.isdir(subfolder_path):\n",
        "        output_subfolder = os.path.join(output_folder, subfolder)\n",
        "        \n",
        "        # Crear la subcarpeta de salida si no existe\n",
        "        if not os.path.exists(output_subfolder):\n",
        "            os.makedirs(output_subfolder)\n",
        "        \n",
        "        # Iterar sobre las imágenes en la subcarpeta\n",
        "        for filename in os.listdir(subfolder_path):\n",
        "            if filename.endswith(\".jpg\") or filename.endswith(\".png\"):\n",
        "                img_color = Image.open(os.path.join(subfolder_path, filename))\n",
        "                img_gray = img_color.convert('L')\n",
        "                img_gray.save(os.path.join(output_subfolder, filename))"
      ],
      "metadata": {
        "id": "E6IhYMX07YT2"
      },
      "execution_count": 12,
      "outputs": []
    },
    {
      "cell_type": "code",
      "source": [
        "#Pruebo a eliminar la clase M ya que no encontramos datos sobre a que puede referirse a diferencia de las otras clases\n",
        "!rm -r /content/test_final/M\n",
        "!rm -r /content/train_final/M\n",
        "!rm -r /content/validation_final/M\n",
        "\n"
      ],
      "metadata": {
        "id": "CS4TZ04VVxi_"
      },
      "execution_count": 13,
      "outputs": []
    },
    {
      "cell_type": "code",
      "source": [
        "#Movemos las imagenes de una carpeta a otra\n",
        "!mv /content/drive/MyDrive/ECG.Training/latidos_F/* /content/train_final/F\n",
        "!mv /content/drive/MyDrive/ECG.Training/latidos_N/* /content/train_final/N\n",
        "!mv /content/drive/MyDrive/ECG.Training/latidos_Q/* /content/train_final/Q\n",
        "!mv /content/drive/MyDrive/ECG.Training/latidos_S/* /content/train_final/S\n",
        "!mv /content/drive/MyDrive/ECG.Training/latidos_V/* /content/train_final/V\n",
        "\n",
        "\n"
      ],
      "metadata": {
        "id": "lLlMbkt0nSHW"
      },
      "execution_count": 26,
      "outputs": []
    },
    {
      "cell_type": "code",
      "source": [
        "!rm -r /content/train_final/V/latidos_V\n"
      ],
      "metadata": {
        "id": "AxfdogKNp7PJ"
      },
      "execution_count": 25,
      "outputs": []
    },
    {
      "cell_type": "code",
      "source": [
        "import os\n",
        "import numpy as np\n",
        "from tensorflow.keras.preprocessing.image import ImageDataGenerator\n",
        "from tensorflow.keras.applications.vgg16 import VGG16, preprocess_input\n",
        "from tensorflow.keras.models import Model\n",
        "from tensorflow.keras.layers import Dense, Dropout, Flatten\n",
        "\n",
        "# Función para convertir imágenes en escala de grises a pseudo-color\n",
        "\n",
        "def custom_preprocessing(img_gray):\n",
        "    img_gray = 0.2989 * img_gray[:, :, 0] + 0.5870 * img_gray[:, :, 1] + 0.1140 * img_gray[:, :, 2]\n",
        "    img_pseudocolor = np.stack((img_gray,)*3, axis=-1)\n",
        "    img_preprocessed = preprocess_input(img_pseudocolor*255)\n",
        "    return img_preprocessed\n",
        "\n",
        "\n",
        "\n",
        "# Rutas de las carpetas de train, validation y test\n",
        "train_folder = '/content/train_final'\n",
        "val_folder = '/content/validation_final'\n",
        "test_folder = '/content/test_final'\n",
        "\n",
        "train_datagen = ImageDataGenerator(\n",
        "    rescale=1./255,\n",
        "    rotation_range=10,\n",
        "    width_shift_range=0.1,\n",
        "    height_shift_range=0.1,\n",
        "    shear_range=0.1,\n",
        "    zoom_range=0.1,\n",
        "    horizontal_flip=True,\n",
        "    fill_mode='nearest',\n",
        "    preprocessing_function=custom_preprocessing\n",
        ")\n",
        "\n",
        "val_datagen = ImageDataGenerator(\n",
        "    rescale=1./255,\n",
        "    preprocessing_function=custom_preprocessing\n",
        ")\n",
        "\n",
        "test_datagen = ImageDataGenerator(\n",
        "    rescale=1./255,\n",
        "    preprocessing_function=custom_preprocessing\n",
        ")\n",
        "\n",
        "\n",
        "# Generadores para los conjuntos de entrenamiento, validación y prueba\n",
        "train_generator = train_datagen.flow_from_directory(\n",
        "    train_folder,\n",
        "    target_size=(224, 224),\n",
        "    batch_size=32,\n",
        "    class_mode='categorical',\n",
        "    color_mode='rgb'\n",
        ")\n",
        "\n",
        "val_generator = val_datagen.flow_from_directory(\n",
        "    val_folder,\n",
        "    target_size=(224, 224),\n",
        "    batch_size=32,\n",
        "    class_mode='categorical',\n",
        "    color_mode='rgb'\n",
        ")\n",
        "\n",
        "test_generator = test_datagen.flow_from_directory(\n",
        "    test_folder,\n",
        "    target_size=(224, 224),\n",
        "    batch_size=32,\n",
        "    class_mode='categorical',\n",
        "    color_mode='rgb'\n",
        ")\n",
        "base_model = vgg16.VGG16(input_shape=(224, 224, 3), include_top=False, weights='imagenet')\n",
        "\n",
        "for layer in base_model.layers:\n",
        "    layer.trainable = False\n",
        "\n",
        "x = base_model.output\n",
        "x = Flatten()(x)\n",
        "x = Dense(512, activation='relu')(x)\n",
        "x = Dropout(0.5)(x)\n",
        "output = Dense(5, activation='softmax')(x)\n",
        "\n",
        "model = Model(inputs=base_model.input, outputs=output)\n",
        "\n",
        "model.compile(optimizer='adam',\n",
        "              loss='categorical_crossentropy',\n",
        "              metrics=['accuracy'])\n",
        "\n",
        "EPOCHS = 5\n",
        "model_ecg = model.fit(train_generator, validation_data= val_generator, epochs=EPOCHS, steps_per_epoch=len(train_generator), validation_steps=len(val_generator))\n",
        "\n"
      ],
      "metadata": {
        "colab": {
          "base_uri": "https://localhost:8080/"
        },
        "id": "QT4RWClR9nr4",
        "outputId": "721a6e46-5fa6-46d0-e03e-f2a70e41cd6a"
      },
      "execution_count": 29,
      "outputs": [
        {
          "output_type": "stream",
          "name": "stdout",
          "text": [
            "Found 72841 images belonging to 5 classes.\n",
            "Found 18161 images belonging to 5 classes.\n",
            "Found 22698 images belonging to 5 classes.\n",
            "Downloading data from https://storage.googleapis.com/tensorflow/keras-applications/vgg16/vgg16_weights_tf_dim_ordering_tf_kernels_notop.h5\n",
            "58889256/58889256 [==============================] - 3s 0us/step\n",
            "Epoch 1/5\n",
            "2277/2277 [==============================] - 854s 369ms/step - loss: 0.6754 - accuracy: 0.9167 - val_loss: 0.1059 - val_accuracy: 0.9677\n",
            "Epoch 2/5\n",
            "2277/2277 [==============================] - 837s 367ms/step - loss: 0.2091 - accuracy: 0.9386 - val_loss: 0.1118 - val_accuracy: 0.9665\n",
            "Epoch 3/5\n",
            "2277/2277 [==============================] - 837s 368ms/step - loss: 0.1900 - accuracy: 0.9433 - val_loss: 0.1084 - val_accuracy: 0.9681\n",
            "Epoch 4/5\n",
            "2277/2277 [==============================] - 837s 368ms/step - loss: 0.1769 - accuracy: 0.9447 - val_loss: 0.1182 - val_accuracy: 0.9683\n",
            "Epoch 5/5\n",
            "2277/2277 [==============================] - 832s 365ms/step - loss: 0.1729 - accuracy: 0.9467 - val_loss: 0.0933 - val_accuracy: 0.9738\n"
          ]
        }
      ]
    },
    {
      "cell_type": "code",
      "source": [
        "model.save('/content/drive/MyDrive/saved_models/model_ecg_escala_grises_mejorado.h5')\n"
      ],
      "metadata": {
        "id": "xfET7sbhQc5q"
      },
      "execution_count": 30,
      "outputs": []
    },
    {
      "cell_type": "code",
      "source": [
        "train_generator.class_indices"
      ],
      "metadata": {
        "colab": {
          "base_uri": "https://localhost:8080/"
        },
        "id": "oRNGcqpQndPH",
        "outputId": "3d9955de-b7c9-4a19-c73f-5ca17802b0d1"
      },
      "execution_count": 31,
      "outputs": [
        {
          "output_type": "execute_result",
          "data": {
            "text/plain": [
              "{'F': 0, 'N': 1, 'Q': 2, 'S': 3, 'V': 4}"
            ]
          },
          "metadata": {},
          "execution_count": 31
        }
      ]
    },
    {
      "cell_type": "markdown",
      "source": [
        "###Observamos que las predicciones no son correctas. Aunque tras una profunda revisión vemos que el modelo parece estar bien entrenado, el problema es como le estamos haciendo llegar los datos al modelo. Probamos a reentrenar el modelo añadiendole imágenes distintas de los distintos tipos de latidos pero sigue realizando de manera incorrecta las predicciones."
      ],
      "metadata": {
        "id": "NRltbtAUyTF_"
      }
    },
    {
      "cell_type": "markdown",
      "source": [
        "##PRUEBA MODELO IMAGENES A COLOR\n",
        "\n",
        "\n",
        "Tras probar este modelo, nos encontramos que las predicciones siguen siendo erróneas. Viendo el poco tiempo del que disponemos omitimos seguir investigando como optimizar el modelo de imágenes y continuamos el estudio con el modelo numérico."
      ],
      "metadata": {
        "id": "85Cmvi_5FNEA"
      }
    },
    {
      "cell_type": "code",
      "source": [
        "#Creamos otro modelo mas simple que procesa imágenes a color y verificamos resultados.\n",
        "\n",
        "from tensorflow.keras.preprocessing.image import ImageDataGenerator\n",
        "from tensorflow.keras.models import Sequential, Model\n",
        "from tensorflow.keras.layers import Dense, Flatten, Dropout\n",
        "from tensorflow.keras.optimizers import Adam\n",
        "from tensorflow.keras.applications import MobileNetV2\n",
        "from tensorflow.keras.applications import vgg16"
      ],
      "metadata": {
        "id": "DRjn1hOrAqR2"
      },
      "execution_count": 28,
      "outputs": []
    },
    {
      "cell_type": "code",
      "source": [
        "train_dir = '/content/ECG_Image_data/train_val/train'\n",
        "val_dir = '/content/ECG_Image_data/train_val/val'\n",
        "test_dir = '/content/ECG_Image_data/test'\n",
        "\n",
        "train_datagen = ImageDataGenerator(rescale=1./255,\n",
        "                                   rotation_range=10,\n",
        "                                   width_shift_range=0.1,\n",
        "                                   height_shift_range=0.1,\n",
        "                                   shear_range=0.1,\n",
        "                                   zoom_range=0.1,\n",
        "                                   horizontal_flip=True,\n",
        "                                   fill_mode='nearest')\n",
        "\n",
        "val_datagen = ImageDataGenerator(rescale=1./255)\n",
        "\n",
        "test_datagen = ImageDataGenerator(rescale=1./255)\n",
        "\n",
        "train_generator = train_datagen.flow_from_directory(train_dir,\n",
        "                                                    target_size=(224, 224),\n",
        "                                                    color_mode='rgb',\n",
        "                                                    batch_size=64,\n",
        "                                                    class_mode='categorical')\n",
        "\n",
        "val_generator = val_datagen.flow_from_directory(val_dir,\n",
        "                                                target_size=(224, 224),\n",
        "                                                color_mode='rgb',\n",
        "                                                batch_size=64,\n",
        "                                                class_mode='categorical')\n",
        "\n",
        "test_generator = test_datagen.flow_from_directory(test_dir,\n",
        "                                                target_size=(224, 224),\n",
        "                                                color_mode='rgb',\n",
        "                                                batch_size=64,\n",
        "                                                class_mode='categorical')\n",
        "\n",
        "\n",
        "\n"
      ],
      "metadata": {
        "colab": {
          "base_uri": "https://localhost:8080/"
        },
        "id": "RdaBc4eZAtq7",
        "outputId": "c10c8420-2e97-4a56-d573-7af1b01593a0"
      },
      "execution_count": null,
      "outputs": [
        {
          "output_type": "stream",
          "name": "stdout",
          "text": [
            "Found 79357 images belonging to 6 classes.\n",
            "Found 19842 images belonging to 6 classes.\n",
            "Found 24799 images belonging to 6 classes.\n"
          ]
        }
      ]
    },
    {
      "cell_type": "code",
      "source": [
        "base_model = vgg16.VGG16(input_shape=(224, 224, 3), include_top=False, weights='imagenet')\n",
        "\n",
        "for layer in base_model.layers:\n",
        "    layer.trainable = False\n",
        "\n",
        "x = base_model.output\n",
        "x = Flatten()(x)\n",
        "x = Dense(512, activation='relu')(x)\n",
        "x = Dropout(0.5)(x)\n",
        "output = Dense(6, activation='softmax')(x)\n",
        "\n",
        "model = Model(inputs=base_model.input, outputs=output)\n",
        "\n",
        "model.compile(optimizer='adam',\n",
        "              loss='categorical_crossentropy',\n",
        "              metrics=['accuracy'])"
      ],
      "metadata": {
        "id": "cgPewU3aA650"
      },
      "execution_count": 29,
      "outputs": []
    },
    {
      "cell_type": "code",
      "source": [
        "EPOCHS = 5\n",
        "model_ecg = model.fit(train_generator, validation_data= val_generator, epochs=EPOCHS, steps_per_epoch=len(train_generator), validation_steps=len(val_generator))\n",
        "model.save('/content/drive/MyDrive/saved_models/model_ecg_escala_grises.h5')\n"
      ],
      "metadata": {
        "id": "QpOZff41fpBj"
      },
      "execution_count": null,
      "outputs": []
    },
    {
      "cell_type": "code",
      "source": [
        "model.save('/content/drive/MyDrive/saved_models/model_ecg_escala_grises.h5')"
      ],
      "metadata": {
        "id": "gIr8ZEyzTGjZ"
      },
      "execution_count": null,
      "outputs": []
    }
  ]
}