{
 "cells": [
  {
   "cell_type": "markdown",
   "id": "db7fa758",
   "metadata": {},
   "source": [
    "**Librerias**"
   ]
  },
  {
   "cell_type": "code",
   "execution_count": 1,
   "id": "0d686a27",
   "metadata": {},
   "outputs": [],
   "source": [
    "import wfdb\n",
    "import numpy as np\n",
    "import pandas as pd\n",
    "import matplotlib.pyplot as plt\n",
    "from scipy.interpolate import interp1d\n",
    "from scipy.signal import resample\n",
    "from collections import Counter\n",
    "import tensorflow as tf\n",
    "from tensorflow.keras.models import load_model\n",
    "from sklearn.metrics import classification_report, confusion_matrix\n",
    "from sklearn.model_selection import train_test_split\n",
    "from scipy.signal import argrelextrema"
   ]
  },
  {
   "cell_type": "code",
   "execution_count": null,
   "id": "e0f7e8de",
   "metadata": {},
   "outputs": [],
   "source": []
  },
  {
   "cell_type": "markdown",
   "id": "28dd1841",
   "metadata": {},
   "source": [
    "**Funciones**"
   ]
  },
  {
   "cell_type": "code",
   "execution_count": 2,
   "id": "58ed58c2",
   "metadata": {},
   "outputs": [],
   "source": [
    "#Se encarga de extraer para un archivo WFDB dado, el canal específico que incluye\n",
    "#el vector de datos de la derivación y las anotaciones\n",
    "\n",
    "#Retorna vector, anotaciones, longitud_muestras\n",
    "\n",
    "def extrear_derivacion(filename, canal):\n",
    "    # Leer el archivo de registro y sus anotaciones\n",
    "    record = wfdb.rdrecord(filename)\n",
    "    annotation = wfdb.rdann(filename, 'atr') # Cambia 'atr' por la extensión de las anotaciones si es diferente\n",
    "\n",
    "    # Seleccionar la derivación específica y sus anotaciones correspondientes\n",
    "    lead_number = canal  # Cambia este número por el índice de la derivación deseada (0 para la primera, 1 para la segunda, etc.)\n",
    "\n",
    "    selected_lead = record.p_signal[:, lead_number]\n",
    "    selected_annotation_indices = [i for i in range(len(annotation.sample)) if annotation.chan[i] == lead_number]\n",
    "    selected_annotations = annotation.sample[selected_annotation_indices]\n",
    "    selected_symbols = [annotation.symbol[i] for i in selected_annotation_indices]\n",
    "    selected_aux_note = [annotation.aux_note[i] for i in selected_annotation_indices]\n",
    "\n",
    "    # Crear un nuevo objeto de registro y anotaciones con solo la derivación deseada y sus anotaciones\n",
    "    selected_record = wfdb.Record(record_name=record.record_name, fs=record.fs, n_sig=1,\n",
    "                                  sig_len=len(selected_lead), p_signal=selected_lead.reshape(-1, 1),\n",
    "                              units=[record.units[lead_number]], sig_name=[record.sig_name[lead_number]])\n",
    "\n",
    "    selected_annotation = wfdb.Annotation(record_name=annotation.record_name, extension=annotation.extension,\n",
    "                                      sample=selected_annotations, symbol=selected_symbols,\n",
    "                                      aux_note=selected_aux_note, chan=[0] * len(selected_annotations),\n",
    "                                      num=len(selected_annotations), fs=annotation.fs)\n",
    "\n",
    "    \n",
    "    # Longitud en número de muestras de cada señal\n",
    "    signal_length = record.sig_len\n",
    "\n",
    "    return selected_record, selected_annotation, signal_length"
   ]
  },
  {
   "cell_type": "code",
   "execution_count": 3,
   "id": "b9cc7a57",
   "metadata": {},
   "outputs": [],
   "source": [
    "#Permite graficar el contenido del vector y anotación, para un intervalo de tiempo en segundos\n",
    "#especificado como start_time, end\n",
    "\n",
    "def graficar(rec, ann, start_time, end):\n",
    "    # Define el intervalo de tiempo en segundos que deseas graficar\n",
    "    # Convertir los tiempos a índices\n",
    "    start_index = int(start_time * rec.fs)\n",
    "    end_index = int(end * rec.fs)\n",
    "\n",
    "    # Acotar el intervalo de tiempo de la señal y las anotaciones\n",
    "    time = np.arange(start_index, end_index) / rec.fs\n",
    "    signal = rec.p_signal[start_index:end_index]\n",
    "    ann_indices = (ann.sample >= start_index) & (ann.sample < end_index)\n",
    "    ann_sample = ann.sample[ann_indices] - start_index\n",
    "    ann_symbol = np.array(ann.symbol)[ann_indices]\n",
    "\n",
    "    # Graficar la señal y las anotaciones\n",
    "    fig, ax = plt.subplots(figsize=(15, 8))\n",
    "    ax.plot(time, signal)\n",
    "    ax.set_xlabel('Time (s)')\n",
    "    ax.set_ylabel(f\"{rec.sig_name[0]} ({rec.units[0]})\")\n",
    "\n",
    "    for s, x in zip(ann_symbol, ann_sample):\n",
    "        ax.annotate(s, xy=((x / rec.fs) + start_time, signal[x]), xycoords='data', textcoords='data',\n",
    "                    arrowprops=dict(facecolor='red', arrowstyle=\"wedge,tail_width=0.7\", alpha=0.8),\n",
    "                    fontsize=12, color='red', alpha=0.8)\n",
    "\n",
    "    plt.show()"
   ]
  },
  {
   "cell_type": "code",
   "execution_count": 4,
   "id": "29f112a5",
   "metadata": {},
   "outputs": [],
   "source": [
    "def process_ecg_signal2(rec, ann, segment_length=10, multiplier=1.2, new_fs=125, new_length=187):\n",
    "    fs = rec.fs\n",
    "    segment_samples = segment_length * fs\n",
    "    n_segments = rec.sig_len // segment_samples\n",
    "    p_signal = rec.p_signal\n",
    "\n",
    "    segments = []\n",
    "    labels = []\n",
    "    periodo = []\n",
    "    segments_ = []\n",
    "\n",
    "    for i in range(n_segments):\n",
    "        start_sample = i * segment_samples\n",
    "        end_sample = (i + 1) * segment_samples\n",
    "\n",
    "        # Extraer y normalizar el segmento de 10 segundos\n",
    "        segment = p_signal[start_sample:end_sample]\n",
    "        normalized_segment = (segment - np.min(segment)) / (np.max(segment) - np.min(segment))\n",
    "\n",
    "        # Encontrar las anotaciones y calcular T dentro del segmento de 10 segundos\n",
    "        ann_indices = (ann.sample >= start_sample) & (ann.sample < end_sample)\n",
    "        ann_sample = ann.sample[ann_indices] - start_sample\n",
    "        ann_symbol = np.array(ann.symbol)[ann_indices]\n",
    "        T = np.mean(np.diff(ann_sample))\n",
    "        \n",
    "        periodo.append(T*multiplier)\n",
    "\n",
    "        # Iterar las anotaciones en el segmento de 10 segundos\n",
    "        for j, (s, x) in enumerate(zip(ann_symbol, ann_sample)):\n",
    "            # Extraer T*1.2 muestras a la derecha a partir de la posición de la anotación\n",
    "            #start_subsample = x -5\n",
    "            #end_subsample = min(x -5 + int(T * multiplier), end_sample - start_sample)\n",
    "            \n",
    "            start_subsample = x - int(T*0.5)\n",
    "            end_subsample = min(x + int(T*0.7), end_sample - start_sample)\n",
    "            \n",
    "            subsegment = normalized_segment[start_subsample:end_subsample]\n",
    "\n",
    "            # Rellenar con ceros hasta 1600 muestras\n",
    "            subsegment_400 = np.zeros(1600)\n",
    "            subsegment_400[:len(subsegment.flatten())] = subsegment.flatten()\n",
    "\n",
    "\n",
    "            # Remuestrear a 125 Hz y interpolar para obtener un vector de longitud 187\n",
    "            #subsegment_125 = resample(subsegment_360, int(fs/new_fs * len(subsegment_360)))\n",
    "            #f = interp1d(np.linspace(0, 1, num=len(subsegment_125)), subsegment_125, kind='cubic')\n",
    "            #subsegment_out = f(np.linspace(0, 1, num=new_length))\n",
    "\n",
    "            segments.append(subsegment_400)\n",
    "            segments_.append(subsegment)\n",
    "            \n",
    "            labels.append(s)\n",
    "\n",
    "    return segments, labels, periodo, segments_\n"
   ]
  },
  {
   "cell_type": "code",
   "execution_count": 5,
   "id": "2abbbdeb",
   "metadata": {},
   "outputs": [],
   "source": [
    "def plot_filtered_segments(segments, labels, target_label, num_to_plot, file):\n",
    "    filtered_segments = [seg for seg, label in zip(segments, labels) if label == target_label]\n",
    "\n",
    "    fig, ax = plt.subplots(figsize=(6, 4))\n",
    "    for i in range(min(num_to_plot, len(filtered_segments))):\n",
    "        ax.plot(filtered_segments[i])\n",
    "\n",
    "    ax.set_ylabel('Amplitud normalizada')\n",
    "    ax.set_xlabel('Muestras de ' + file)\n",
    "    #ax.legend(loc='upper right')\n",
    "    #plt.tight_layout()\n",
    "    plt.show()\n",
    "\n",
    "\n"
   ]
  },
  {
   "cell_type": "code",
   "execution_count": 6,
   "id": "da96758b",
   "metadata": {},
   "outputs": [],
   "source": [
    "def resample_vector(vector, old_fs, new_fs):\n",
    "    segment_resample = vector;\n",
    "\n",
    "    # Definir la frecuencia de muestreo original y la deseada\n",
    "    frecuencia_original = 250\n",
    "    frecuencia_deseada = 125\n",
    "\n",
    "    # Calcular el factor de reescalado\n",
    "    factor_reescalado = frecuencia_original / frecuencia_deseada\n",
    "\n",
    "    # Remuestrear los datos\n",
    "    #datos_125Hz = np.resample(datos_1000Hz, int(len(datos_1000Hz)/factor_reescalado))\n",
    "\n",
    "    #new_fs = 125 # Nueva frecuencia de muestreo\n",
    "    for i in range(len(segment_resample)):\n",
    "        #new_length = int(187 * new_fs / 360)\n",
    "        subsegment_125 = resample(segment_resample[i], int(len(segment_resample[i])/factor_reescalado))\n",
    "        segment_resample[i] = subsegment_125[:187]\n",
    "        \n",
    "    return segment_resample\n"
   ]
  },
  {
   "cell_type": "code",
   "execution_count": 7,
   "id": "07d07b3f",
   "metadata": {},
   "outputs": [],
   "source": [
    "def padding(lista):\n",
    "    segments_padded = []\n",
    "    desired_length = 187\n",
    "\n",
    "    for segment in lista:\n",
    "        # obtener la longitud actual del segmento\n",
    "        current_length = len(segment)\n",
    "\n",
    "        # calcular la cantidad de ceros que se necesitan agregar\n",
    "        n_zeros = desired_length - current_length\n",
    "\n",
    "        # agregar los ceros al final del segmento\n",
    "        padded_segment = np.pad(segment, (0, n_zeros), 'constant')\n",
    "\n",
    "        # agregar el segmento acolchado a la lista\n",
    "        segments_padded.append(padded_segment)\n",
    "        \n",
    "    return segments_padded\n"
   ]
  },
  {
   "cell_type": "code",
   "execution_count": 19,
   "id": "b0f60c9f",
   "metadata": {},
   "outputs": [],
   "source": [
    "def procesar(guardarComo, file, muestras, tipo, factor, periodo_maximo = False, grafica_periodo = False, graficas_tipo = False):\n",
    "    filename = './dataset/dataset-modelo/'+file\n",
    "    rec, ann, longitud = extrear_derivacion(filename, 0)\n",
    "    segments, labels, periodo, analizar = process_ecg_signal2(rec, ann, 10, factor)\n",
    "    per_maximo = 0\n",
    "    \n",
    "    if grafica_periodo == True:\n",
    "        plt.plot(periodo)\n",
    "        plt.show()\n",
    "    \n",
    "    if periodo_maximo == True:\n",
    "        #print(\"Periodo máximo: \", max(periodo))\n",
    "        per_maximo = max(periodo)\n",
    "    \n",
    "    segments_resample = resample_vector(segments, 360, 125)\n",
    "    \n",
    "    #segmento_ajustado = padding(segments_resample)\n",
    "    \n",
    "    if graficas_tipo == True:\n",
    "        label_counts = Counter(labels)\n",
    "        print(\"Conteo de etiquetas:\", label_counts)\n",
    "    \n",
    "        target_label = tipo  # Cambia esto por la etiqueta que deseas filtrar\n",
    "        num_to_plot = muestras     # Cambia esto por la cantidad de segmentos que deseas graficar\n",
    "        plot_filtered_segments(segments_resample, labels, target_label, num_to_plot, file)\n",
    "    \n",
    "    # Crear un DataFrame a partir de la lista 'segmentos'\n",
    "    df = pd.DataFrame(segments_resample)\n",
    "\n",
    "    # Agregar una nueva columna con las etiquetas en la lista 'etiquetas'\n",
    "    df['etiqueta'] = labels\n",
    "\n",
    "    # Guardar el DataFrame inicial en un archivo CSV\n",
    "    df.to_csv(guardarComo, mode='a', index=False, header=False)\n",
    "    \n",
    "    return df, per_maximo\n"
   ]
  },
  {
   "cell_type": "code",
   "execution_count": 9,
   "id": "c3d677e9",
   "metadata": {},
   "outputs": [],
   "source": [
    "def lista(num_inicial, num_final):\n",
    "    # Generar una lista de cadenas de 3 dígitos\n",
    "    numeros = [str(i) for i in range(num_inicial, num_final+1)]\n",
    "\n",
    "    return numeros\n"
   ]
  },
  {
   "cell_type": "code",
   "execution_count": 10,
   "id": "5e804dfe",
   "metadata": {},
   "outputs": [],
   "source": [
    "def reetiquetado(df):\n",
    "    # Crear un diccionario de mapeo para agrupar las categorías\n",
    "    mapeo_categorias = {\n",
    "        'N': 'N', 'L': 'N', 'R': 'N', 'e': 'N', 'j': 'N',\n",
    "        'A': 'S', 'a': 'S', 'J': 'S', 'S': 'S',\n",
    "        'V': 'V', 'E': 'V', 'F': 'V',\n",
    "        'F': 'F',\n",
    "        '/': 'Q', 'f': 'Q', 'Q': 'Q'\n",
    "    }\n",
    "\n",
    "    # Aplicar el mapeo de categorías a la columna 188\n",
    "    df[187] = df[187].map(mapeo_categorias)\n",
    "\n",
    "    return df"
   ]
  },
  {
   "cell_type": "code",
   "execution_count": 11,
   "id": "642d0647",
   "metadata": {},
   "outputs": [],
   "source": [
    "def etiqueta_numerica(df):\n",
    "    # Diccionario de mapeo de etiquetas a números\n",
    "    mapeo_numerico = {\n",
    "        'N': 0,\n",
    "        'Q': 4,\n",
    "        'V': 2,\n",
    "        'S': 1,\n",
    "        'F': 3\n",
    "    }\n",
    "\n",
    "    # Aplicar el mapeo de etiquetas a números a la columna '188'\n",
    "    df[187] = df[187].map(mapeo_numerico)\n",
    "\n",
    "    return df"
   ]
  },
  {
   "cell_type": "code",
   "execution_count": 12,
   "id": "2cb7ec9f",
   "metadata": {},
   "outputs": [],
   "source": [
    "def proporcion_ceros(fila):\n",
    "    total_ceros = sum(fila == 0)\n",
    "    total_elementos = len(fila)\n",
    "    return total_ceros / total_elementos\n"
   ]
  },
  {
   "cell_type": "code",
   "execution_count": null,
   "id": "4f3397df",
   "metadata": {},
   "outputs": [],
   "source": []
  },
  {
   "cell_type": "markdown",
   "id": "41eb8faa",
   "metadata": {},
   "source": [
    "### **Análisis exploratorio**"
   ]
  },
  {
   "attachments": {},
   "cell_type": "markdown",
   "id": "eac7ed81",
   "metadata": {},
   "source": [
    "En Kaggle existe un dataset con segmentos de latidos ya preprocesados con el cual han desarrollado modelos de buenos resultados utilizando su conjunto de datos de prueba.\n",
    "\n",
    "![imagen.png](https://drive.google.com/uc?export=view&id=11Tvea6r7jXTOUneG9rikO0lD8D36Fj7l)\n",
    "\n",
    "En una primer aproximación, se utilizó este dataset que ya no requirió un trabajo de exploración. \n",
    "\n",
    "Sin embargo, el reto era sementar los latidos con el mismo criterio para ser evaluados por el modelo. Este punto fue problemático, ya que ligeras variaciones en la manera de segmentar, se traducia en resultados con una alta variabilidad en la clasificación de los latidos.\n",
    "\n",
    "Derivado de lo anterior, se optó por partir de la base de datos original de Physionet indentificada como \"MIT-BIH Arrhythmia Database\" disponible en https://www.physionet.org/content/mitdb/1.0.0/\n",
    "\n",
    "Esta información tiene las siguientes características generales:\n",
    "\n",
    "- 48 extractos de media hora de registro de ECG\n",
    "- La información pertenece a 47 personas diferentes\n",
    "- Las grabaciones contienen trazos con una frecuencia de muestreo de 360Hz\n",
    "- Aproximadamente 110,000 anotaciones totales"
   ]
  },
  {
   "cell_type": "markdown",
   "id": "c2e6ba4f",
   "metadata": {},
   "source": [
    "**Definir la ventana de segmentación**\n",
    "\n",
    "El primer paso es determinar el ancho de la ventana de segmentación. El dataset de Kaggle estableció una ventana de 187 muestras, para trazos de 125 Hz.\n",
    "\n",
    "Comenzamos por explorar todos los archivos en bloques de 10segundos. \n",
    "\n",
    "La regla de 10 segundos se toma como referencia de la práctica implementada por el algoritmo de Philips DXL para analizar 12 derivaciones. Philips para obtener métricas, obtiene todos los latidos que existan en un vector de 10 segundos. Eso le permite obtener un latido sintético representativo a los 10 segundos sobre el cual extraer características.\n",
    "\n",
    "Siendo así, se procede a analizar cada uno de los archivos en segmentos de 10 segundos y obteniendo la media de la frecuencia cardiaca en cada segmento. \n"
   ]
  },
  {
   "cell_type": "code",
   "execution_count": 13,
   "id": "4d6a12f3",
   "metadata": {},
   "outputs": [
    {
     "name": "stdout",
     "output_type": "stream",
     "text": [
      "Total de archivos:  48\n"
     ]
    }
   ],
   "source": [
    "#construimos la lista con los 48 archivos\n",
    "lista_archivos = lista(100,109) + lista(111,119) + lista(121,124) + \\\n",
    "        lista(200,203) + ['205'] + lista(207,210) + lista(212,215) + \\\n",
    "        ['217'] + lista(219,223) + ['228'] + lista(230,234)\n",
    "\n",
    "print('Total de archivos: ', len(lista_archivos))"
   ]
  },
  {
   "cell_type": "code",
   "execution_count": 20,
   "id": "2c2a274f",
   "metadata": {},
   "outputs": [],
   "source": [
    "#definimos un nombre de salida para los datos analizados\n",
    "analizar_periodo = 'analizar_periodo.csv'\n",
    "\n",
    "#iteramos la lista de archivos extrayendo el periodo\n",
    "periodo_max = []\n",
    "for f in lista_archivos:\n",
    "    _, periodo_maximo = procesar(analizar_periodo, f, 50, 'N', 1.2, periodo_maximo=True)\n",
    "    periodo_max.append(periodo_maximo)"
   ]
  },
  {
   "cell_type": "code",
   "execution_count": 21,
   "id": "f52dac00",
   "metadata": {},
   "outputs": [
    {
     "data": {
      "image/png": "[encoded data removed]",
      "text/plain": [
       "<Figure size 1000x400 with 1 Axes>"
      ]
     },
     "metadata": {},
     "output_type": "display_data"
    }
   ],
   "source": [
    "plt.figure(figsize=(10,4))\n",
    "plt.plot(periodo_max)\n",
    "plt.ylabel('No. de muestras')\n",
    "plt.xlabel('Maximo por archivo')\n",
    "plt.show()"
   ]
  },
  {
   "cell_type": "code",
   "execution_count": 22,
   "id": "d6a9f18e",
   "metadata": {},
   "outputs": [
    {
     "data": {
      "image/png": "[encoded data removed]",
      "text/plain": [
       "<Figure size 500x500 with 1 Axes>"
      ]
     },
     "metadata": {},
     "output_type": "display_data"
    }
   ],
   "source": [
    "#Analizamos la información de los periodos\n",
    "\n",
    "plt.figure(figsize=(5,5))\n",
    "bp = plt.boxplot(periodo_max)\n",
    "# Configurar título y etiquetas\n",
    "plt.title('')\n",
    "plt.ylabel('Numero de muestras')\n",
    "plt.xticks([1], ['Ventana'])\n",
    "y_ticks = np.arange(200, 1000, 50)\n",
    "plt.yticks(y_ticks)\n",
    "plt.grid(axis='y', linestyle='--', alpha=0.7)\n",
    "\n",
    "# Dibujar los valores de los cuartiles\n",
    "for i, box in enumerate(bp['boxes']):\n",
    "    whisker_bottom = bp['whiskers'][2 * i].get_ydata()[1]\n",
    "    whisker_top = bp['whiskers'][2 * i + 1].get_ydata()[1]\n",
    "    y_bottom = box.get_ydata()[0]\n",
    "    y_top = box.get_ydata()[2]\n",
    "    Q1 = box.get_ydata()[1]\n",
    "    Q3 = box.get_ydata()[3]\n",
    "    median = bp['medians'][i].get_ydata()[0]\n",
    "\n",
    "    # Dibujar valores\n",
    "    plt.text(i + 1.15, whisker_bottom, f\"{whisker_bottom:.2f}\", fontsize=10, color='blue')\n",
    "    plt.text(i + 1.15, whisker_top, f\"{whisker_top:.2f}\", fontsize=10, color='blue')\n",
    "    plt.text(i + 1.15, y_bottom, f\"{y_bottom:.2f}\", fontsize=10)\n",
    "    plt.text(i + 1.15, y_top, f\"{y_top:.2f}\", fontsize=10)\n",
    "    plt.text(i + 1.15, Q1, f\"{Q1:.2f}\", fontsize=10)\n",
    "    plt.text(i + 1.15, Q3, f\"{Q3:.2f}\", fontsize=10)\n",
    "    plt.text(i + 1.15, median, f\"{median:.2f}\", fontsize=10)\n",
    "    \n",
    "plt.show()"
   ]
  },
  {
   "cell_type": "code",
   "execution_count": 23,
   "id": "e9d83242",
   "metadata": {},
   "outputs": [
    {
     "name": "stdout",
     "output_type": "stream",
     "text": [
      "Ventana de:  1.6338055555555555 segundos\n"
     ]
    }
   ],
   "source": [
    "#Lo anterior indica que dejando fuera los valores atípicos, deberíamos considerar 588.17 muestras\n",
    "tiempo = 588.17 * (1/360)\n",
    "print(\"Ventana de: \", tiempo,\"segundos\")"
   ]
  },
  {
   "cell_type": "code",
   "execution_count": 24,
   "id": "bb7d0dd0",
   "metadata": {},
   "outputs": [
    {
     "name": "stdout",
     "output_type": "stream",
     "text": [
      "Ventana de muestras:  204.22569444444443\n"
     ]
    }
   ],
   "source": [
    "#ahora, considerando un muestreo de 125 Hz, el número de muestras a considerar es de:\n",
    "muestras = tiempo * 125\n",
    "print(\"Ventana de muestras: \", muestras)"
   ]
  },
  {
   "cell_type": "markdown",
   "id": "b15aed1c",
   "metadata": {},
   "source": [
    "Lo anterior explica el porqué diferentes artículos que utilizan el dataset de Physionet, establecen una longitud de vector de 187 muestras.\n",
    "\n",
    "Para efectos del proyecto, tomaremos igualmente 187 muestras. En un próximo ejercicio, se tomarán las 204 que se calcularon y se compararán los resultados.\n"
   ]
  },
  {
   "cell_type": "markdown",
   "id": "5cd6d637",
   "metadata": {},
   "source": [
    "## **¿Por qué ajustar la frecuencia a 125Hz?**"
   ]
  },
  {
   "cell_type": "markdown",
   "id": "8ba99de0",
   "metadata": {},
   "source": [
    "Consultando la literatura y encontrando un número importante de trabajos que abordan este problema con redes neuronales convolucionales (CNN), la justificación es la siguiente:\n",
    "\n",
    "- Eficiencia computacional: Al disminuir la frecuencia de muestreo, el volumen de datos a procesar y almacenar se reduce significativamente. Para expertos en aprendizaje profundo y big data, esta reducción puede ser crucial para acelerar el tiempo de entrenamiento y limitar los requisitos de almacenamiento, especialmente cuando se trabaja con grandes volúmenes de datos y modelos complejos como las CNN.\n",
    "- Filtrado de ruido y mejoramiento de señal: Al reducir la frecuencia de muestreo, se eliminan las componentes de alta frecuencia, lo que también puede eliminar el ruido no deseado en las señales de ECG, como artefactos musculares y otros factores no cardíacos. Esto facilita la identificación y extracción de características relevantes del ECG por parte de las CNN, lo que puede mejorar la precisión del modelo y su capacidad para generalizar.\n",
    "- Reducción de dimensionalidad y prevención del sobreajuste: La disminución de la frecuencia de muestreo conlleva una reducción en la dimensionalidad de los datos. Esto simplifica los modelos de CNN y disminuye el riesgo de sobreajuste, lo que es especialmente relevante en contextos de aprendizaje profundo donde se manejan grandes cantidades de parámetros. Además, la reducción de dimensionalidad facilita la visualización y el análisis de los datos, lo que puede ser útil para comprender mejor el rendimiento del modelo y la importancia de las características extraídas.\n",
    "\n",
    "Es por lo anterior, que la base de datos de Physionet se ajustará de 360Hz a 125Hz para el modelo de entrenamiento."
   ]
  },
  {
   "cell_type": "markdown",
   "id": "496b038c",
   "metadata": {},
   "source": [
    "## **Salida que se espera de los latidos**"
   ]
  },
  {
   "attachments": {},
   "cell_type": "markdown",
   "id": "4488ebe6",
   "metadata": {},
   "source": [
    "![imagen.png](https://drive.google.com/uc?export=view&id=1-CEOs2bgnpMux12-FrOYnca73rz14Ghc)"
   ]
  },
  {
   "cell_type": "markdown",
   "id": "9043a544",
   "metadata": {},
   "source": [
    "## **Proceso para segmentar el datset de Physionet**"
   ]
  },
  {
   "cell_type": "markdown",
   "id": "e4ce1258",
   "metadata": {},
   "source": [
    "https://physionet.org/content/mitdb/1.0.0/\n",
    "\n",
    "The recordings were digitized at 360 samples per second per channel with 11-bit resolution over a 10 mV range. Two or more cardiologists independently annotated each record; disagreements were resolved to obtain the computer-readable reference annotations for each beat (approximately 110,000 annotations in all) included with the database."
   ]
  },
  {
   "cell_type": "markdown",
   "id": "5e27da7d",
   "metadata": {},
   "source": [
    "**Crea la lista con los nombres de los archivos originales del dataset**\n",
    "\n",
    "Se crea una lista con los nombre de todos los archivos que se descargaron\n",
    "como base de datos de trazos de ECG"
   ]
  },
  {
   "cell_type": "code",
   "execution_count": null,
   "id": "6ce9916f",
   "metadata": {},
   "outputs": [],
   "source": [
    "lista_archivos = lista(100,109) + lista(111,119) + lista(121,124) + \\\n",
    "        lista(200,203) + ['205'] + lista(207,210) + lista(212,215) + \\\n",
    "        ['217'] + lista(219,223) + ['228'] + lista(230,234)\n",
    "print(lista_archivos)"
   ]
  },
  {
   "cell_type": "markdown",
   "id": "c6c8bec2",
   "metadata": {},
   "source": [
    "\n",
    "**Extracción de los segmentos de latidos**"
   ]
  },
  {
   "cell_type": "code",
   "execution_count": null,
   "id": "534bb8c7",
   "metadata": {},
   "outputs": [],
   "source": [
    "#definimos el nombre del archivo en donde se van a integrar \n",
    "#todos los segmentos que se extraen de la base de datos\n",
    "\n",
    "dataset_guardar = 'borrar.csv'"
   ]
  },
  {
   "cell_type": "markdown",
   "id": "b6d59d0e",
   "metadata": {},
   "source": [
    "**Metdología para el preprocesamiento de la base de datos**"
   ]
  },
  {
   "cell_type": "markdown",
   "id": "582d3075",
   "metadata": {},
   "source": [
    "a) Se selecciona el archivo de la base de datos Physionet MIT-BIH Arrhythmia."
   ]
  },
  {
   "cell_type": "markdown",
   "id": "8eb62670",
   "metadata": {},
   "source": [
    "b) El archivo puede contener más de una derivación, por lo que selecciona la Derivación II que proporciona la información más relevente del trazo de ECG. El vector que se extrae es de tipo \"record\" junto con un vector tipo \"annotation\", que tiene las etiquetas generadas por los cardiólogos que revisaron el archivo.\n",
    "\n",
    "La siguiente imagen muestra un ejemplo del contenido de un archivo de la base de datos."
   ]
  },
  {
   "cell_type": "markdown",
   "id": "e2323500",
   "metadata": {},
   "source": [
    "![imagen.png](https://drive.google.com/uc?export=view&id=1GH2cdOaMKXhNjJzKA5reQ5f6g9XhKOH-)"
   ]
  },
  {
   "cell_type": "markdown",
   "id": "28da936c",
   "metadata": {},
   "source": [
    "c) Se recorrerá el archivo extrayendo bloques de 10 segundos de información."
   ]
  },
  {
   "cell_type": "markdown",
   "id": "9054eaa1",
   "metadata": {},
   "source": [
    "d) El bloque de 10 segundos se normaliza entre valores 0 y 1"
   ]
  },
  {
   "cell_type": "markdown",
   "id": "5282a006",
   "metadata": {},
   "source": [
    "e) Utilizando las anotaciones generadas por los cardiólogos en cada uno de los latidos, se calcula la media de la frecuencia cardiaca en los 10 segundos. Esta frecuencia media, se utilizará como la ventana para segmentar un latido. Es decir, de la posicion del latido, se tomara ventana * 0.5 muestras a la izquierda y ventana * 0.7 muestras a la derecha. La proporción obedece a la distribución característica de un latido de corazón."
   ]
  },
  {
   "cell_type": "markdown",
   "id": "ddf9dd51",
   "metadata": {},
   "source": [
    "f) Se tomarán solamente los latidos que cumplan con su ventana de datos completa. Esto es, posiblemente algunos latidos que se encuentren en los extremos izquierda y derecha, podrán quedar excluidos por no tener información completa."
   ]
  },
  {
   "cell_type": "markdown",
   "id": "673ec860",
   "metadata": {},
   "source": [
    "g) Se extraerán los N latidos que se identifiquen en el bloque de 10 segundos, utilizando las posiciones de las etiquetas hechas por los cardiólogos. "
   ]
  },
  {
   "cell_type": "markdown",
   "id": "2f91e891",
   "metadata": {},
   "source": [
    "h) Cada uno de los latidos que se extraen, fueron generados a 360Hz. Para simplificar la cantidad de datos, se baja el muestreo a 125Hz, que permite continuar manteniendo las características relevantes de la morfología del latido."
   ]
  },
  {
   "cell_type": "markdown",
   "id": "64248fcd",
   "metadata": {},
   "source": [
    "i) En la diversidad de estudios de la base de datos, existen diferentes frecuencias cardiacas de los pacientes. Esto significa, que la frecuencia media que se calculó en el paso e) arrojará una ventana de datos que puede ir desde unas 75 muestras (frecuencia cardiaca alta) hasta poco más de 175 muestras (frecuencia cardiaca baja). Por ello se estandariza una longitud de vector a 187 muestras para todos los latidos.\n",
    "\n",
    "A continuación se muestran ejemplos del resultado de la segmentación de diferentes archivos, mostrando un grupo de latidos de tipo 'N'. Esta clase se explica en el punto k)"
   ]
  },
  {
   "cell_type": "markdown",
   "id": "d83f539d",
   "metadata": {},
   "source": [
    "![imagen.png](https://drive.google.com/uc?export=view&id=1ZaQFZ8zoiy9-hkWt5nur_EXCiPTNvXwy)"
   ]
  },
  {
   "cell_type": "markdown",
   "id": "780e16a7",
   "metadata": {},
   "source": [
    "![imagen.png](https://drive.google.com/uc?export=view&id=1jcyNprh_K8ZwLoDNH6vwXvbDocWx0xBD)\n"
   ]
  },
  {
   "cell_type": "markdown",
   "id": "d6ab6545",
   "metadata": {},
   "source": [
    "![imagen.png](https://drive.google.com/uc?export=view&id=17qK3Qnll-YCMLSg9g32eXsABdvcmSFVV)\n"
   ]
  },
  {
   "cell_type": "markdown",
   "id": "e2dcb2da",
   "metadata": {},
   "source": [
    "![imagen.png](https://drive.google.com/uc?export=view&id=1oWo_eo00y_awKES-6DCuRE0tYbMNpwrt)\n"
   ]
  },
  {
   "cell_type": "markdown",
   "id": "bd6b1681",
   "metadata": {},
   "source": [
    "j) Para cada uno de los latidos que se segmentó, se unifica la longitud de 187 muestras rellenando con ceros los datos faltantes. Esto para no influir en la morfología del trazo."
   ]
  },
  {
   "cell_type": "markdown",
   "id": "ce2baa2b",
   "metadata": {},
   "source": [
    "k) Cada uno de los latidos segmentados, se etiqueta con la anotación que generaron los cardiólogos (MIT-BIH Class) que indica un tipo de latido específico."
   ]
  },
  {
   "cell_type": "markdown",
   "id": "b8d91d40",
   "metadata": {},
   "source": [
    "![imagen.png](https://drive.google.com/uc?export=view&id=13ZmZhK3_Ww5AFtWn_eujbFSSRW034sv7)"
   ]
  },
  {
   "cell_type": "markdown",
   "id": "d22e8d9b",
   "metadata": {},
   "source": [
    "l) Lo anterior nos arrojará un dataset de latidos segmentados con hasta 15 posibles clases de latidos."
   ]
  },
  {
   "cell_type": "markdown",
   "id": "80a23322",
   "metadata": {},
   "source": [
    "m) Hasta aquí, ha quedado un dataset de las siquientes características."
   ]
  },
  {
   "cell_type": "markdown",
   "id": "cee605b4",
   "metadata": {},
   "source": [
    "Total de latidos segmentados: 112,299"
   ]
  },
  {
   "cell_type": "markdown",
   "id": "7b3a30b7",
   "metadata": {},
   "source": [
    "Clases de latidos encontrados y cantidades: \n",
    "\n",
    "'N': 74804, 'L': 8055, 'R': 7241, 'V': 7116, '/': 7005, 'A': 2530, '+': 1289, 'f': 979, 'F': 802 , '~': 615, '!': 472, '\"': 437, 'j': 229, 'x': 192, 'a': 149, '|': 132, 'E': 106, 'J': 83, 'Q': 33, 'e': 16, '[': 6, ']': 6, 'S': 2"
   ]
  },
  {
   "cell_type": "markdown",
   "id": "87ff313c",
   "metadata": {},
   "source": []
  },
  {
   "cell_type": "code",
   "execution_count": null,
   "id": "203bc12b",
   "metadata": {
    "scrolled": false
   },
   "outputs": [],
   "source": [
    "# se implementa un for para recorrer cada uno de los archivos\n",
    "#disponibles\n",
    "\n",
    "for f in lista_archivos:\n",
    "    procesar(dataset_guardar, f, 200, 'N', 1.2, graficas_tipo=True)\n",
    "    \n",
    "#A continuación se muestra un extracto de 50 latidos de tipo 'N' para \n",
    "#cada uno de los archivos que se han procesado. \n",
    "#Los que están en blanco, significa que ese archivo no tiene latidos de la clase 'N'"
   ]
  },
  {
   "cell_type": "markdown",
   "id": "9e244361",
   "metadata": {},
   "source": [
    "**Se inicia con la limpieza del dataset**"
   ]
  },
  {
   "cell_type": "code",
   "execution_count": null,
   "id": "a3ddbc3a",
   "metadata": {},
   "outputs": [],
   "source": [
    "#se cargan los latidos segmentados\n",
    "segmentos = pd.read_csv(dataset_guardar, header=None)"
   ]
  },
  {
   "cell_type": "code",
   "execution_count": null,
   "id": "05b42c14",
   "metadata": {},
   "outputs": [],
   "source": [
    "print(segmentos.shape)"
   ]
  },
  {
   "cell_type": "code",
   "execution_count": null,
   "id": "8534dc4a",
   "metadata": {},
   "outputs": [],
   "source": [
    "etiquetas = segmentos.iloc[:, -1]"
   ]
  },
  {
   "cell_type": "code",
   "execution_count": null,
   "id": "3f88b0cf",
   "metadata": {},
   "outputs": [],
   "source": [
    "label_counts = Counter(etiquetas)\n",
    "print(\"Conteo de etiquetas:\", label_counts)"
   ]
  },
  {
   "cell_type": "markdown",
   "id": "ce741621",
   "metadata": {},
   "source": [
    "**Agrupación para 5 clases**"
   ]
  },
  {
   "cell_type": "markdown",
   "id": "52e6490e",
   "metadata": {},
   "source": [
    "Se procede con la agrupación de las clases MIT-BIH Class en las 5 clases AAMI que son 'N', 'S', 'V', 'F', 'Q'"
   ]
  },
  {
   "cell_type": "markdown",
   "id": "b6448101",
   "metadata": {},
   "source": [
    "**Se realiza el cambio de etiquetas*\n",
    "\n",
    "![imagen.png](https://drive.google.com/uc?export=view&id=13ZmZhK3_Ww5AFtWn_eujbFSSRW034sv7)"
   ]
  },
  {
   "cell_type": "code",
   "execution_count": null,
   "id": "0aaff2c3",
   "metadata": {},
   "outputs": [],
   "source": [
    "segmentos_etiq = reetiquetado(segmentos)\n",
    "etiquetas2 = segmentos_etiq.iloc[:, -1]\n",
    "label_counts = Counter(etiquetas2)\n",
    "print(\"Conteo de etiquetas:\", label_counts)"
   ]
  },
  {
   "cell_type": "code",
   "execution_count": null,
   "id": "e8eef486",
   "metadata": {},
   "outputs": [],
   "source": [
    "import matplotlib.pyplot as plt\n",
    "from collections import Counter\n",
    "\n",
    "#Clase 0 : 86846\n",
    "#Clase 1 : 2647\n",
    "#Clase 2 : 6976\n",
    "#Clase 3 : 785\n",
    "#Clase 4 : 7702\n",
    "    \n",
    "# Tus datos\n",
    "etiquetas2 = ['N'] * 86846 + ['Q'] * 7702 + ['V'] * 6976 + ['S'] * 2647 + ['F'] * 785\n",
    "#etiquetas2 = ['N'] * 90345 + ['Q'] * 8017 + ['V'] * 7222 + ['S'] * 2764 + ['F'] * 802 + ['na'] * 3149\n",
    "label_counts = Counter(etiquetas2)\n",
    "print(\"Conteo de etiquetas por clase:\", label_counts)\n",
    "\n",
    "# Extraer etiquetas y conteos\n",
    "labels, counts = zip(*label_counts.items())\n",
    "\n",
    "# Crear gráfico de barras\n",
    "bars = plt.bar(labels, counts)\n",
    "\n",
    "# Configurar título y etiquetas de los ejes\n",
    "plt.title('Conteo de Etiquetas')\n",
    "plt.xlabel('Clases AAMI')\n",
    "plt.ylabel('Etiquetas')\n",
    "\n",
    "# Agregar valores sobre las barras\n",
    "for bar in bars:\n",
    "    height = bar.get_height()\n",
    "    plt.text(bar.get_x() + bar.get_width() / 2, height + 500, str(height), ha='center', va='bottom')\n",
    "\n",
    "# Mostrar el gráfico\n",
    "plt.show()"
   ]
  },
  {
   "cell_type": "markdown",
   "id": "471e50d6",
   "metadata": {},
   "source": [
    "**Se eliminan las nan**"
   ]
  },
  {
   "cell_type": "code",
   "execution_count": null,
   "id": "eb74fcad",
   "metadata": {},
   "outputs": [],
   "source": [
    "segmentos_etiq = segmentos_etiq.dropna(subset=[187])"
   ]
  },
  {
   "cell_type": "code",
   "execution_count": null,
   "id": "1ca21ea0",
   "metadata": {},
   "outputs": [],
   "source": [
    "etiquetas2 = segmentos_etiq.iloc[:, -1]"
   ]
  },
  {
   "cell_type": "code",
   "execution_count": null,
   "id": "082b362e",
   "metadata": {},
   "outputs": [],
   "source": [
    "label_counts = Counter(etiquetas2)\n",
    "print(\"Conteo de etiquetas:\", label_counts)"
   ]
  },
  {
   "cell_type": "markdown",
   "id": "7b53dfa9",
   "metadata": {},
   "source": [
    "**Cambio de la etiqueta string por la codificación numérica**"
   ]
  },
  {
   "cell_type": "markdown",
   "id": "57219696",
   "metadata": {},
   "source": [
    "Se realizará el cambio de etiquetas como sigue:\n",
    "    \n",
    "['N': 0, 'S': 1, 'V': 2, 'F': 3, 'Q': 4]"
   ]
  },
  {
   "cell_type": "code",
   "execution_count": null,
   "id": "ab00a093",
   "metadata": {},
   "outputs": [],
   "source": []
  },
  {
   "cell_type": "code",
   "execution_count": null,
   "id": "bcac24ac",
   "metadata": {},
   "outputs": [],
   "source": [
    "segmentos_etiq = etiqueta_numerica(segmentos_etiq)"
   ]
  },
  {
   "cell_type": "code",
   "execution_count": null,
   "id": "f1565a52",
   "metadata": {},
   "outputs": [],
   "source": [
    "etiquetas2 = segmentos_etiq.iloc[:, -1]\n",
    "label_counts = Counter(etiquetas2)\n",
    "print(\"Conteo de etiquetas:\", label_counts)"
   ]
  },
  {
   "cell_type": "markdown",
   "id": "27bf7c64",
   "metadata": {},
   "source": [
    "**Revisa las filas con mayoria en ceros**"
   ]
  },
  {
   "cell_type": "markdown",
   "id": "4d9d0fd8",
   "metadata": {},
   "source": [
    "Se han  identificado que algunas filas de los latidos segmentados, son mayormente ceros. Estos segmentos no son representativos de un latido, por lo que se eliminarán del dataset.\n",
    "\n",
    "El criterio para eliminarlos es si más del 90% de las 187 columnas tienen ceros,"
   ]
  },
  {
   "cell_type": "code",
   "execution_count": null,
   "id": "38a5dfa0",
   "metadata": {},
   "outputs": [],
   "source": [
    "segmentos_etiq['proporcion_ceros'] = segmentos_etiq.iloc[:, :-1].apply(proporcion_ceros, axis=1)\n"
   ]
  },
  {
   "cell_type": "code",
   "execution_count": null,
   "id": "ba0764e2",
   "metadata": {},
   "outputs": [],
   "source": [
    "umbral_ceros = 0.9\n",
    "segmentos_ceros = segmentos_etiq[segmentos_etiq['proporcion_ceros'] > umbral_ceros]\n"
   ]
  },
  {
   "cell_type": "code",
   "execution_count": null,
   "id": "d942cacf",
   "metadata": {},
   "outputs": [],
   "source": [
    "#Se verifica el número de filas con ceros\n",
    "segmentos_ceros.shape"
   ]
  },
  {
   "cell_type": "code",
   "execution_count": null,
   "id": "55728b77",
   "metadata": {},
   "outputs": [],
   "source": [
    "#se corrobora que el filtro haya sido correcto\n",
    "segmentos_ceros"
   ]
  },
  {
   "cell_type": "markdown",
   "id": "1ad16f73",
   "metadata": {},
   "source": [
    "**Removemos las filas con ceros**"
   ]
  },
  {
   "cell_type": "code",
   "execution_count": null,
   "id": "15271fa0",
   "metadata": {},
   "outputs": [],
   "source": [
    "umbral_ceros = 0.9\n",
    "segmentos_etiq = segmentos_etiq[segmentos_etiq['proporcion_ceros'] <= umbral_ceros]\n",
    "segmentos_limpios = segmentos_etiq.drop(columns=['proporcion_ceros'])"
   ]
  },
  {
   "cell_type": "code",
   "execution_count": null,
   "id": "b31ce8a6",
   "metadata": {},
   "outputs": [],
   "source": [
    "segmentos_limpios.shape"
   ]
  },
  {
   "cell_type": "code",
   "execution_count": null,
   "id": "9d93dace",
   "metadata": {},
   "outputs": [],
   "source": [
    "#conteo de etiquetas después de eliminar los ceros\n",
    "y_limpio = segmentos_limpios.iloc[:, -1]\n",
    "\n",
    "clases_train = np.bincount(y_limpio)\n",
    "print(f\"Clase 0 : {clases_train[0]}\")\n",
    "print(f\"Clase 1 : {clases_train[1]}\")\n",
    "print(f\"Clase 2 : {clases_train[2]}\")\n",
    "print(f\"Clase 3 : {clases_train[3]}\")\n",
    "print(f\"Clase 4 : {clases_train[4]}\")"
   ]
  },
  {
   "cell_type": "code",
   "execution_count": null,
   "id": "4ba3b3b1",
   "metadata": {},
   "outputs": [],
   "source": []
  },
  {
   "cell_type": "markdown",
   "id": "5ead5bb8",
   "metadata": {},
   "source": [
    "**Salvamos el dataset depurado para el entrenamiento del modelo**"
   ]
  },
  {
   "cell_type": "code",
   "execution_count": null,
   "id": "6cea9276",
   "metadata": {},
   "outputs": [],
   "source": [
    "segmentos_limpios.to_csv('ds_depurado_mit_bih.csv', index=False, header=False)"
   ]
  },
  {
   "cell_type": "code",
   "execution_count": null,
   "id": "a8ae1639",
   "metadata": {},
   "outputs": [],
   "source": []
  },
  {
   "cell_type": "code",
   "execution_count": null,
   "id": "dd7fb92b",
   "metadata": {},
   "outputs": [],
   "source": []
  }
 ],
 "metadata": {
  "kernelspec": {
   "display_name": "Python 3.10 (tensorflow)",
   "language": "python",
   "name": "tensorflow"
  },
  "language_info": {
   "codemirror_mode": {
    "name": "ipython",
    "version": 3
   },
   "file_extension": ".py",
   "mimetype": "text/x-python",
   "name": "python",
   "nbconvert_exporter": "python",
   "pygments_lexer": "ipython3",
   "version": "3.10.10"
  }
 },
 "nbformat": 4,
 "nbformat_minor": 5
}
